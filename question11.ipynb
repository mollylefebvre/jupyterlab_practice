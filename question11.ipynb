{
 "cells": [
  {
   "cell_type": "markdown",
   "id": "eea8ec28-b6c7-4a58-af92-6fddedf9b6d8",
   "metadata": {},
   "source": [
    "# Molly Lefebvre\n",
    "\n",
    "Notebook for assignment 7."
   ]
  },
  {
   "cell_type": "code",
   "execution_count": 1,
   "id": "2cdfac54-9519-4dc8-996d-777319af2006",
   "metadata": {},
   "outputs": [
    {
     "data": {
      "text/plain": [
       "5.0"
      ]
     },
     "execution_count": 1,
     "metadata": {},
     "output_type": "execute_result"
    }
   ],
   "source": [
    "def compute_mean(values):\n",
    "    if not values:\n",
    "        print(\"The list is empty.\")\n",
    "        return None\n",
    "    mean_value = sum(values) / len(values)\n",
    "    return mean_value\n",
    "\n",
    "compute_mean([2, 4, 6, 8])"
   ]
  },
  {
   "cell_type": "markdown",
   "id": "9f8558f2-d598-48d3-be7f-41edad679796",
   "metadata": {},
   "source": [
    "The previous cell is a Python function that computes the mean of the values in a list and prints the results.\n",
    "\n",
    "The function is defined as:\n",
    "\n",
    "$$\n",
    "\\bar{x} = \\frac{x_1 + x_2 + ... + x_n}{n} = \\frac{1}{n}\\left(\\sum_{i=1}^{n} x_i \\right)\n",
    "$$"
   ]
  },
  {
   "cell_type": "code",
   "execution_count": null,
   "id": "c1f043bf-cc7d-4e2d-b210-ba5dcacefc40",
   "metadata": {},
   "outputs": [],
   "source": []
  }
 ],
 "metadata": {
  "kernelspec": {
   "display_name": "Python [conda env:jupyterlab-practice]",
   "language": "python",
   "name": "conda-env-jupyterlab-practice-py"
  },
  "language_info": {
   "codemirror_mode": {
    "name": "ipython",
    "version": 3
   },
   "file_extension": ".py",
   "mimetype": "text/x-python",
   "name": "python",
   "nbconvert_exporter": "python",
   "pygments_lexer": "ipython3",
   "version": "3.12.9"
  }
 },
 "nbformat": 4,
 "nbformat_minor": 5
}
